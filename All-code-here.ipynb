{
 "cells": [
  {
   "cell_type": "markdown",
   "id": "e23d0a57",
   "metadata": {},
   "source": [
    "# All question answered only this notebook."
   ]
  },
  {
   "cell_type": "code",
   "execution_count": null,
   "id": "e4d9074f",
   "metadata": {},
   "outputs": [],
   "source": [
    "import pandas as pd"
   ]
  },
  {
   "cell_type": "code",
   "execution_count": 2,
   "id": "3df5ae76",
   "metadata": {},
   "outputs": [],
   "source": [
    "df = pd.read_csv('country_vaccination_stats.csv')"
   ]
  },
  {
   "cell_type": "markdown",
   "id": "3684c123",
   "metadata": {},
   "source": [
    "# Question4"
   ]
  },
  {
   "cell_type": "code",
   "execution_count": 7,
   "id": "628a3786",
   "metadata": {},
   "outputs": [],
   "source": [
    "min_vaccinations = df.groupby('country')['daily_vaccinations'].min().reset_index()\n",
    "df = df.merge(min_vaccinations, on='country', suffixes=('', '_min'))\n",
    "df['daily_vaccinations'] = df['daily_vaccinations'].fillna(df['daily_vaccinations_min']).astype(int)\n",
    "df.drop('daily_vaccinations_min', axis=1, inplace=True)\n",
    "df['daily_vaccinations'].fillna(0, inplace=True)\n",
    "\n",
    "df.to_csv('updated_fileForQ4.csv', index=False)"
   ]
  },
  {
   "cell_type": "markdown",
   "id": "7e732082",
   "metadata": {},
   "source": [
    "# Question5 "
   ]
  },
  {
   "cell_type": "code",
   "execution_count": null,
   "id": "ef03e834",
   "metadata": {},
   "outputs": [],
   "source": [
    "#question4 and 5 are same. "
   ]
  },
  {
   "cell_type": "markdown",
   "id": "1201e50e",
   "metadata": {},
   "source": [
    "# Question6"
   ]
  },
  {
   "cell_type": "code",
   "execution_count": 8,
   "id": "4f4c2b38",
   "metadata": {},
   "outputs": [
    {
     "name": "stdout",
     "output_type": "stream",
     "text": [
      "          country  daily_vaccinations\n",
      "58  United States            378253.0\n",
      "8           China            276786.0\n",
      "24          India            173922.0\n"
     ]
    }
   ],
   "source": [
    "df = pd.read_csv('updated_fileForQ4.csv')\n",
    "\n",
    "median_vaccinations = df.groupby('country')['daily_vaccinations'].median().reset_index()\n",
    "top_countries = median_vaccinations.sort_values(by='daily_vaccinations', ascending=False).head(3)\n",
    "\n",
    "print(top_countries)"
   ]
  },
  {
   "cell_type": "markdown",
   "id": "39687a57",
   "metadata": {},
   "source": [
    "# Question7"
   ]
  },
  {
   "cell_type": "code",
   "execution_count": 9,
   "id": "05873815",
   "metadata": {},
   "outputs": [
    {
     "name": "stdout",
     "output_type": "stream",
     "text": [
      "1466568\n"
     ]
    }
   ],
   "source": [
    "df['date'] = pd.to_datetime(df['date'])\n",
    "\n",
    "total_vaccinations_1_6_2021 = df[df['date'] == '2021-01-06']['daily_vaccinations'].sum()\n",
    "print(total_vaccinations_1_6_2021)"
   ]
  },
  {
   "cell_type": "code",
   "execution_count": null,
   "id": "ebbfc1e4",
   "metadata": {},
   "outputs": [],
   "source": []
  }
 ],
 "metadata": {
  "kernelspec": {
   "display_name": "Python 3",
   "language": "python",
   "name": "python3"
  },
  "language_info": {
   "codemirror_mode": {
    "name": "ipython",
    "version": 3
   },
   "file_extension": ".py",
   "mimetype": "text/x-python",
   "name": "python",
   "nbconvert_exporter": "python",
   "pygments_lexer": "ipython3",
   "version": "3.7.6"
  }
 },
 "nbformat": 4,
 "nbformat_minor": 5
}
